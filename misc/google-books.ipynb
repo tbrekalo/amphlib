{
 "cells": [
  {
   "cell_type": "code",
   "execution_count": 1,
   "id": "88f589c2",
   "metadata": {},
   "outputs": [],
   "source": [
    "import asyncio\n",
    "import functools as fntools\n",
    "import itertools as it\n",
    "import sys\n",
    "\n",
    "from collections.abc import Callable, Iterable, Iterator, Sequence, Set\n",
    "from copy import deepcopy\n",
    "from typing import assert_never, TypeVar, Union\n",
    "\n",
    "from loguru import logger\n",
    "from pydantic import BaseModel, ValidationError\n",
    "from pydantic_extra_types.isbn import ISBN\n",
    "\n",
    "import httpx\n",
    "import polars as pl"
   ]
  },
  {
   "cell_type": "code",
   "execution_count": 2,
   "id": "3e1c784c",
   "metadata": {},
   "outputs": [
    {
     "data": {
      "text/plain": [
       "1"
      ]
     },
     "execution_count": 2,
     "metadata": {},
     "output_type": "execute_result"
    }
   ],
   "source": [
    "logger.remove()\n",
    "logger.add(\n",
    "    sys.stderr,\n",
    "    format=\"<green>{time}</green> | <level>{level: <8}</level> | <cyan>{name}</cyan>:<cyan>{function}</cyan>:<cyan>{line}</cyan> - <level>{message}</level> | {extra}\",\n",
    "    colorize=True,  # This enables colors\n",
    ")"
   ]
  },
  {
   "cell_type": "code",
   "execution_count": 3,
   "id": "f6d32f6d",
   "metadata": {},
   "outputs": [],
   "source": [
    "T = TypeVar(\"T\")"
   ]
  },
  {
   "cell_type": "code",
   "execution_count": 4,
   "id": "6af474d0",
   "metadata": {},
   "outputs": [],
   "source": [
    "JSON = Union[None, int, str, bool, list[\"JSON\"], dict[str, \"JSON\"]]"
   ]
  },
  {
   "cell_type": "code",
   "execution_count": 5,
   "id": "c6ca2be2",
   "metadata": {},
   "outputs": [],
   "source": [
    "class Book(BaseModel):\n",
    "    model_config = {\n",
    "        \"frozen\": True,\n",
    "        \"extra\": \"ignore\",\n",
    "    }\n",
    "\n",
    "    title: str\n",
    "    authors: Set[str]\n",
    "    publisher: str\n",
    "    publish_date: str\n",
    "    isbn: ISBN\n",
    "\n",
    "\n",
    "class BookError:\n",
    "    message: str"
   ]
  },
  {
   "cell_type": "code",
   "execution_count": 6,
   "id": "a20daf06",
   "metadata": {},
   "outputs": [],
   "source": [
    "BOOKS_API = \"https://www.googleapis.com/books/v1/volumes\"\n",
    "AUTHORS = [\"William Shakespare\", \"George Orwell\", \"Aldous Huxley\", \"Hermann Hesse\"]\n",
    "\n",
    "aclient = httpx.AsyncClient()"
   ]
  },
  {
   "cell_type": "code",
   "execution_count": 7,
   "id": "beb9abb4",
   "metadata": {},
   "outputs": [],
   "source": [
    "def try_parse_volume_info(volume: JSON) -> Book | None:\n",
    "    if (volume_info := volume.get(\"volumeInfo\")) is None:\n",
    "        return None\n",
    "\n",
    "    try:\n",
    "        ids = {\n",
    "            id[\"type\"]: id[\"identifier\"]\n",
    "            for id in volume_info.get(\"industryIdentifiers\", [])\n",
    "            if id.get(\"type\", None) in {\"ISBN_10\", \"ISBN_13\"} and \"identifier\" in id\n",
    "        }\n",
    "\n",
    "        isbn = ids.get(\"ISBN_13\", ids.get(\"ISBN_10\", None))\n",
    "        if isbn is None:\n",
    "            logger.warning(\n",
    "                \"no identifiers\",\n",
    "                id=volume[\"id\"],\n",
    "                authors=volume_info.get(\"authors\"),\n",
    "            )\n",
    "            return None\n",
    "\n",
    "        return Book(\n",
    "            title=volume_info.get(\"title\"),\n",
    "            authors=set(volume_info.get(\"authors\")),\n",
    "            publisher=volume_info.get(\"publisher\"),\n",
    "            publish_date=volume_info.get(\"publishedDate\"),\n",
    "            isbn=isbn,\n",
    "        )\n",
    "    except ValidationError as e:\n",
    "        logger.error(e)\n",
    "        return None"
   ]
  },
  {
   "cell_type": "code",
   "execution_count": 8,
   "id": "ee83e8ff",
   "metadata": {},
   "outputs": [
    {
     "name": "stderr",
     "output_type": "stream",
     "text": [
      "\u001b[32m2025-04-18T12:37:01.350094+0200\u001b[0m | \u001b[33m\u001b[1mWARNING \u001b[0m | \u001b[36m__main__\u001b[0m:\u001b[36mtry_parse_volume_info\u001b[0m:\u001b[36m14\u001b[0m - \u001b[33m\u001b[1mno identifiers\u001b[0m | {'query_author': 'William Shakespare', 'id': 'uR8JAAAAQAAJ', 'authors': ['William Shakespeare']}\n",
      "\u001b[32m2025-04-18T12:37:01.351387+0200\u001b[0m | \u001b[33m\u001b[1mWARNING \u001b[0m | \u001b[36m__main__\u001b[0m:\u001b[36mtry_parse_volume_info\u001b[0m:\u001b[36m14\u001b[0m - \u001b[33m\u001b[1mno identifiers\u001b[0m | {'query_author': 'William Shakespare', 'id': 'WaHiEAAAQBAJ', 'authors': ['William Shakespeare']}\n",
      "\u001b[32m2025-04-18T12:37:01.352055+0200\u001b[0m | \u001b[33m\u001b[1mWARNING \u001b[0m | \u001b[36m__main__\u001b[0m:\u001b[36mtry_parse_volume_info\u001b[0m:\u001b[36m14\u001b[0m - \u001b[33m\u001b[1mno identifiers\u001b[0m | {'query_author': 'William Shakespare', 'id': '8dc-AQAAIAAJ', 'authors': ['William Shakespeare']}\n",
      "\u001b[32m2025-04-18T12:37:01.352617+0200\u001b[0m | \u001b[33m\u001b[1mWARNING \u001b[0m | \u001b[36m__main__\u001b[0m:\u001b[36mtry_parse_volume_info\u001b[0m:\u001b[36m14\u001b[0m - \u001b[33m\u001b[1mno identifiers\u001b[0m | {'query_author': 'William Shakespare', 'id': 'GZ7BylAti0gC', 'authors': ['William Shakespeare']}\n"
     ]
    },
    {
     "data": {
      "text/plain": [
       "[Book(title='HAMLET', authors=frozenset({'William Shakespeare'}), publisher='e-artnow', publish_date='2017-12-06', isbn='9788027237142'),\n",
       " Book(title='The Complete Works of William Shakespeare', authors=frozenset({'William Shakespeare'}), publisher='Simon and Schuster', publish_date='2014-10-01', isbn='9781626862760'),\n",
       " Book(title='Othello', authors=frozenset({'William Shakespeare'}), publisher='e-artnow', publish_date='2017-10-16', isbn='9788027223824'),\n",
       " Book(title='Oluja', authors=frozenset({'William Shakespeare'}), publisher='Bulaja naklada', publish_date='2011-05-30', isbn='9789533280714'),\n",
       " Book(title='The Poems & Sonnets of William Shakespeare', authors=frozenset({'William Shakespeare'}), publisher='Wordsworth Editions', publish_date='1994', isbn='9781853264160'),\n",
       " Book(title='William Shakespeare', authors=frozenset({'William Shakespeare'}), publisher='Barnes & Noble Publishing', publish_date='1989-05-19', isbn='9781586635565')]"
      ]
     },
     "execution_count": 8,
     "metadata": {},
     "output_type": "execute_result"
    }
   ],
   "source": [
    "async def get_books_for_author(\n",
    "    client: httpx.AsyncClient,\n",
    "    author: str,\n",
    ") -> Sequence[Book] | BookError:\n",
    "    with logger.contextualize(query_author=author):\n",
    "        response = await client.get(BOOKS_API, params={\"q\": f\"inauthor:{author}\"})\n",
    "        if response.is_error:\n",
    "            logger.error(response.text)\n",
    "            return BookError(response.text)\n",
    "\n",
    "        ret: list[Book] = []\n",
    "        for volume in response.json().get(\"items\", []):\n",
    "            parsed = try_parse_volume_info(volume)\n",
    "            if parsed is not None:\n",
    "                ret.append(parsed)\n",
    "        return ret\n",
    "\n",
    "\n",
    "await get_books_for_author(aclient, AUTHORS[0])"
   ]
  },
  {
   "cell_type": "code",
   "execution_count": 9,
   "id": "bcf81b95",
   "metadata": {},
   "outputs": [
    {
     "name": "stdout",
     "output_type": "stream",
     "text": [
      "[(0,), (1,), (2,), (3,), (4,), (5,), (6,), (7,), (8,), (9,)]\n",
      "[(0, 1, 2), (3, 4, 5), (6, 7, 8), (9,)]\n",
      "[(0, 1, 2, 3, 4, 5, 6, 7, 8, 9)]\n",
      "[(0, 1, 2, 3, 4, 5, 6, 7, 8, 9)]\n"
     ]
    }
   ],
   "source": [
    "def slice(src: Iterator[T], length: int | None = None) -> Iterable[Sequence[T]]:\n",
    "    if length is None:\n",
    "        return (tuple(jt) for jt in (src,))\n",
    "\n",
    "    jt = iter(src)\n",
    "    return iter(lambda: tuple(it.islice(jt, length)), ())\n",
    "\n",
    "\n",
    "print(list(slice(list(range(10)), 1)))\n",
    "print(list(slice(list(range(10)), 3)))\n",
    "print(list(slice(list(range(10)), 10)))\n",
    "print(list(slice(list(range(10)), 11)))"
   ]
  },
  {
   "cell_type": "code",
   "execution_count": 10,
   "id": "b9740166",
   "metadata": {},
   "outputs": [],
   "source": [
    "async def batch_calls(\n",
    "    client: httpx.AsyncClient,\n",
    "    *,\n",
    "    tasks: Iterator[Callable[[httpx.AsyncClient], Sequence[T]]],\n",
    "    batch_size: int | None = None,\n",
    ") -> Sequence[T]:\n",
    "    if not tasks:\n",
    "        return []\n",
    "\n",
    "    if batch_size is None:\n",
    "        batch_size = len(tasks)\n",
    "\n",
    "    return [\n",
    "        result\n",
    "        for batch in slice(tasks, batch_size)\n",
    "        for result in (await asyncio.gather(*(task(client) for task in batch)))\n",
    "    ]\n"
   ]
  },
  {
   "cell_type": "code",
   "execution_count": 11,
   "id": "f46f4e57",
   "metadata": {},
   "outputs": [
    {
     "name": "stdout",
     "output_type": "stream",
     "text": [
      "William Shakespare\n"
     ]
    },
    {
     "name": "stderr",
     "output_type": "stream",
     "text": [
      "\u001b[32m2025-04-18T12:37:01.782768+0200\u001b[0m | \u001b[33m\u001b[1mWARNING \u001b[0m | \u001b[36m__main__\u001b[0m:\u001b[36mtry_parse_volume_info\u001b[0m:\u001b[36m14\u001b[0m - \u001b[33m\u001b[1mno identifiers\u001b[0m | {'query_author': 'William Shakespare', 'id': 'uR8JAAAAQAAJ', 'authors': ['William Shakespeare']}\n",
      "\u001b[32m2025-04-18T12:37:01.783587+0200\u001b[0m | \u001b[33m\u001b[1mWARNING \u001b[0m | \u001b[36m__main__\u001b[0m:\u001b[36mtry_parse_volume_info\u001b[0m:\u001b[36m14\u001b[0m - \u001b[33m\u001b[1mno identifiers\u001b[0m | {'query_author': 'William Shakespare', 'id': 'WaHiEAAAQBAJ', 'authors': ['William Shakespeare']}\n",
      "\u001b[32m2025-04-18T12:37:01.784037+0200\u001b[0m | \u001b[33m\u001b[1mWARNING \u001b[0m | \u001b[36m__main__\u001b[0m:\u001b[36mtry_parse_volume_info\u001b[0m:\u001b[36m14\u001b[0m - \u001b[33m\u001b[1mno identifiers\u001b[0m | {'query_author': 'William Shakespare', 'id': '8dc-AQAAIAAJ', 'authors': ['William Shakespeare']}\n",
      "\u001b[32m2025-04-18T12:37:01.784379+0200\u001b[0m | \u001b[33m\u001b[1mWARNING \u001b[0m | \u001b[36m__main__\u001b[0m:\u001b[36mtry_parse_volume_info\u001b[0m:\u001b[36m14\u001b[0m - \u001b[33m\u001b[1mno identifiers\u001b[0m | {'query_author': 'William Shakespare', 'id': 'GZ7BylAti0gC', 'authors': ['William Shakespeare']}\n"
     ]
    },
    {
     "name": "stdout",
     "output_type": "stream",
     "text": [
      "George Orwell\n"
     ]
    },
    {
     "name": "stderr",
     "output_type": "stream",
     "text": [
      "\u001b[32m2025-04-18T12:37:02.224348+0200\u001b[0m | \u001b[33m\u001b[1mWARNING \u001b[0m | \u001b[36m__main__\u001b[0m:\u001b[36mtry_parse_volume_info\u001b[0m:\u001b[36m14\u001b[0m - \u001b[33m\u001b[1mno identifiers\u001b[0m | {'query_author': 'George Orwell', 'id': 'g3uEzQEACAAJ', 'authors': ['George Orwell']}\n",
      "\u001b[32m2025-04-18T12:37:02.225591+0200\u001b[0m | \u001b[33m\u001b[1mWARNING \u001b[0m | \u001b[36m__main__\u001b[0m:\u001b[36mtry_parse_volume_info\u001b[0m:\u001b[36m14\u001b[0m - \u001b[33m\u001b[1mno identifiers\u001b[0m | {'query_author': 'George Orwell', 'id': '0q_yAAAAMAAJ', 'authors': ['George Orwell']}\n",
      "\u001b[32m2025-04-18T12:37:02.226590+0200\u001b[0m | \u001b[33m\u001b[1mWARNING \u001b[0m | \u001b[36m__main__\u001b[0m:\u001b[36mtry_parse_volume_info\u001b[0m:\u001b[36m14\u001b[0m - \u001b[33m\u001b[1mno identifiers\u001b[0m | {'query_author': 'George Orwell', 'id': '08byAAAAMAAJ', 'authors': ['George Orwell']}\n",
      "\u001b[32m2025-04-18T12:37:02.227363+0200\u001b[0m | \u001b[33m\u001b[1mWARNING \u001b[0m | \u001b[36m__main__\u001b[0m:\u001b[36mtry_parse_volume_info\u001b[0m:\u001b[36m14\u001b[0m - \u001b[33m\u001b[1mno identifiers\u001b[0m | {'query_author': 'George Orwell', 'id': 'kVHmEAAAQBAJ', 'authors': ['George Orwell']}\n",
      "\u001b[32m2025-04-18T12:37:02.227899+0200\u001b[0m | \u001b[33m\u001b[1mWARNING \u001b[0m | \u001b[36m__main__\u001b[0m:\u001b[36mtry_parse_volume_info\u001b[0m:\u001b[36m14\u001b[0m - \u001b[33m\u001b[1mno identifiers\u001b[0m | {'query_author': 'George Orwell', 'id': 'aEwqAQAAIAAJ', 'authors': ['George Orwell']}\n",
      "\u001b[32m2025-04-18T12:37:02.228827+0200\u001b[0m | \u001b[33m\u001b[1mWARNING \u001b[0m | \u001b[36m__main__\u001b[0m:\u001b[36mtry_parse_volume_info\u001b[0m:\u001b[36m14\u001b[0m - \u001b[33m\u001b[1mno identifiers\u001b[0m | {'query_author': 'George Orwell', 'id': '-hJiEAAAQBAJ', 'authors': ['George Orwell']}\n"
     ]
    },
    {
     "name": "stdout",
     "output_type": "stream",
     "text": [
      "Aldous Huxley\n"
     ]
    },
    {
     "name": "stderr",
     "output_type": "stream",
     "text": [
      "\u001b[32m2025-04-18T12:37:02.599038+0200\u001b[0m | \u001b[33m\u001b[1mWARNING \u001b[0m | \u001b[36m__main__\u001b[0m:\u001b[36mtry_parse_volume_info\u001b[0m:\u001b[36m14\u001b[0m - \u001b[33m\u001b[1mno identifiers\u001b[0m | {'query_author': 'Aldous Huxley', 'id': 'zcIZAAAAMAAJ', 'authors': ['Aldous Huxley']}\n",
      "\u001b[32m2025-04-18T12:37:02.599970+0200\u001b[0m | \u001b[33m\u001b[1mWARNING \u001b[0m | \u001b[36m__main__\u001b[0m:\u001b[36mtry_parse_volume_info\u001b[0m:\u001b[36m14\u001b[0m - \u001b[33m\u001b[1mno identifiers\u001b[0m | {'query_author': 'Aldous Huxley', 'id': 'qLhlAAAAMAAJ', 'authors': ['Aldous Huxley']}\n",
      "\u001b[32m2025-04-18T12:37:02.600510+0200\u001b[0m | \u001b[33m\u001b[1mWARNING \u001b[0m | \u001b[36m__main__\u001b[0m:\u001b[36mtry_parse_volume_info\u001b[0m:\u001b[36m14\u001b[0m - \u001b[33m\u001b[1mno identifiers\u001b[0m | {'query_author': 'Aldous Huxley', 'id': 'htlMDQEACAAJ', 'authors': ['Aldous Huxley']}\n",
      "\u001b[32m2025-04-18T12:37:02.601050+0200\u001b[0m | \u001b[33m\u001b[1mWARNING \u001b[0m | \u001b[36m__main__\u001b[0m:\u001b[36mtry_parse_volume_info\u001b[0m:\u001b[36m14\u001b[0m - \u001b[33m\u001b[1mno identifiers\u001b[0m | {'query_author': 'Aldous Huxley', 'id': 'xuNaAAAAMAAJ', 'authors': ['Aldous Huxley']}\n",
      "\u001b[32m2025-04-18T12:37:02.601536+0200\u001b[0m | \u001b[33m\u001b[1mWARNING \u001b[0m | \u001b[36m__main__\u001b[0m:\u001b[36mtry_parse_volume_info\u001b[0m:\u001b[36m14\u001b[0m - \u001b[33m\u001b[1mno identifiers\u001b[0m | {'query_author': 'Aldous Huxley', 'id': 'OH-pnAEACAAJ', 'authors': ['Julian Huxley']}\n",
      "\u001b[32m2025-04-18T12:37:02.601917+0200\u001b[0m | \u001b[33m\u001b[1mWARNING \u001b[0m | \u001b[36m__main__\u001b[0m:\u001b[36mtry_parse_volume_info\u001b[0m:\u001b[36m14\u001b[0m - \u001b[33m\u001b[1mno identifiers\u001b[0m | {'query_author': 'Aldous Huxley', 'id': '_nt_EAAAQBAJ', 'authors': ['Aldous Leonard Huxley']}\n",
      "\u001b[32m2025-04-18T12:37:02.602225+0200\u001b[0m | \u001b[33m\u001b[1mWARNING \u001b[0m | \u001b[36m__main__\u001b[0m:\u001b[36mtry_parse_volume_info\u001b[0m:\u001b[36m14\u001b[0m - \u001b[33m\u001b[1mno identifiers\u001b[0m | {'query_author': 'Aldous Huxley', 'id': 'JSZFAAAAYAAJ', 'authors': ['Aldous Huxley']}\n",
      "\u001b[32m2025-04-18T12:37:02.602601+0200\u001b[0m | \u001b[33m\u001b[1mWARNING \u001b[0m | \u001b[36m__main__\u001b[0m:\u001b[36mtry_parse_volume_info\u001b[0m:\u001b[36m14\u001b[0m - \u001b[33m\u001b[1mno identifiers\u001b[0m | {'query_author': 'Aldous Huxley', 'id': 'd915EAAAQBAJ', 'authors': ['Aldous Huxley']}\n"
     ]
    },
    {
     "name": "stdout",
     "output_type": "stream",
     "text": [
      "Hermann Hesse\n"
     ]
    },
    {
     "name": "stderr",
     "output_type": "stream",
     "text": [
      "\u001b[32m2025-04-18T12:37:02.955004+0200\u001b[0m | \u001b[33m\u001b[1mWARNING \u001b[0m | \u001b[36m__main__\u001b[0m:\u001b[36mtry_parse_volume_info\u001b[0m:\u001b[36m14\u001b[0m - \u001b[33m\u001b[1mno identifiers\u001b[0m | {'query_author': 'Hermann Hesse', 'id': '4YMZnQAACAAJ', 'authors': None}\n",
      "\u001b[32m2025-04-18T12:37:02.956664+0200\u001b[0m | \u001b[33m\u001b[1mWARNING \u001b[0m | \u001b[36m__main__\u001b[0m:\u001b[36mtry_parse_volume_info\u001b[0m:\u001b[36m14\u001b[0m - \u001b[33m\u001b[1mno identifiers\u001b[0m | {'query_author': 'Hermann Hesse', 'id': 'hoyMAQAACAAJ', 'authors': ['Hermann Hesse']}\n",
      "\u001b[32m2025-04-18T12:37:02.957528+0200\u001b[0m | \u001b[33m\u001b[1mWARNING \u001b[0m | \u001b[36m__main__\u001b[0m:\u001b[36mtry_parse_volume_info\u001b[0m:\u001b[36m14\u001b[0m - \u001b[33m\u001b[1mno identifiers\u001b[0m | {'query_author': 'Hermann Hesse', 'id': 'Nw3FngEACAAJ', 'authors': ['Hermann Hesse']}\n",
      "\u001b[32m2025-04-18T12:37:02.958178+0200\u001b[0m | \u001b[33m\u001b[1mWARNING \u001b[0m | \u001b[36m__main__\u001b[0m:\u001b[36mtry_parse_volume_info\u001b[0m:\u001b[36m14\u001b[0m - \u001b[33m\u001b[1mno identifiers\u001b[0m | {'query_author': 'Hermann Hesse', 'id': 'Caf7jwEACAAJ', 'authors': None}\n"
     ]
    }
   ],
   "source": [
    "def create_get_books_task(author: str):\n",
    "    @fntools.wraps(get_books_for_author)\n",
    "    async def _task(client: httpx.Client):\n",
    "        return await get_books_for_author(client, author)\n",
    "    return _task\n",
    "\n",
    "\n",
    "tasks = [\n",
    "    {\n",
    "        \"invoker\": create_get_books_task(author),\n",
    "        \"author\": deepcopy(author),\n",
    "    }\n",
    "    for author in AUTHORS\n",
    "]\n",
    "\n",
    "for task in tasks:\n",
    "    match task:\n",
    "        case {\"invoker\": invoker, \"author\": author}:\n",
    "            print(author)\n",
    "            _ = await invoker(aclient)\n",
    "        case _:\n",
    "            assert_never(_)"
   ]
  },
  {
   "cell_type": "code",
   "execution_count": 12,
   "id": "f4bbcdfb",
   "metadata": {},
   "outputs": [
    {
     "name": "stderr",
     "output_type": "stream",
     "text": [
      "\u001b[32m2025-04-18T12:37:03.501066+0200\u001b[0m | \u001b[33m\u001b[1mWARNING \u001b[0m | \u001b[36m__main__\u001b[0m:\u001b[36mtry_parse_volume_info\u001b[0m:\u001b[36m14\u001b[0m - \u001b[33m\u001b[1mno identifiers\u001b[0m | {'query_author': 'William Shakespare', 'id': 'uR8JAAAAQAAJ', 'authors': ['William Shakespeare']}\n",
      "\u001b[32m2025-04-18T12:37:03.502687+0200\u001b[0m | \u001b[33m\u001b[1mWARNING \u001b[0m | \u001b[36m__main__\u001b[0m:\u001b[36mtry_parse_volume_info\u001b[0m:\u001b[36m14\u001b[0m - \u001b[33m\u001b[1mno identifiers\u001b[0m | {'query_author': 'William Shakespare', 'id': 'WaHiEAAAQBAJ', 'authors': ['William Shakespeare']}\n",
      "\u001b[32m2025-04-18T12:37:03.505548+0200\u001b[0m | \u001b[33m\u001b[1mWARNING \u001b[0m | \u001b[36m__main__\u001b[0m:\u001b[36mtry_parse_volume_info\u001b[0m:\u001b[36m14\u001b[0m - \u001b[33m\u001b[1mno identifiers\u001b[0m | {'query_author': 'William Shakespare', 'id': '8dc-AQAAIAAJ', 'authors': ['William Shakespeare']}\n",
      "\u001b[32m2025-04-18T12:37:03.509426+0200\u001b[0m | \u001b[33m\u001b[1mWARNING \u001b[0m | \u001b[36m__main__\u001b[0m:\u001b[36mtry_parse_volume_info\u001b[0m:\u001b[36m14\u001b[0m - \u001b[33m\u001b[1mno identifiers\u001b[0m | {'query_author': 'William Shakespare', 'id': 'GZ7BylAti0gC', 'authors': ['William Shakespeare']}\n",
      "\u001b[32m2025-04-18T12:37:03.515290+0200\u001b[0m | \u001b[33m\u001b[1mWARNING \u001b[0m | \u001b[36m__main__\u001b[0m:\u001b[36mtry_parse_volume_info\u001b[0m:\u001b[36m14\u001b[0m - \u001b[33m\u001b[1mno identifiers\u001b[0m | {'query_author': 'George Orwell', 'id': 'g3uEzQEACAAJ', 'authors': ['George Orwell']}\n",
      "\u001b[32m2025-04-18T12:37:03.516054+0200\u001b[0m | \u001b[33m\u001b[1mWARNING \u001b[0m | \u001b[36m__main__\u001b[0m:\u001b[36mtry_parse_volume_info\u001b[0m:\u001b[36m14\u001b[0m - \u001b[33m\u001b[1mno identifiers\u001b[0m | {'query_author': 'George Orwell', 'id': '0q_yAAAAMAAJ', 'authors': ['George Orwell']}\n",
      "\u001b[32m2025-04-18T12:37:03.516609+0200\u001b[0m | \u001b[33m\u001b[1mWARNING \u001b[0m | \u001b[36m__main__\u001b[0m:\u001b[36mtry_parse_volume_info\u001b[0m:\u001b[36m14\u001b[0m - \u001b[33m\u001b[1mno identifiers\u001b[0m | {'query_author': 'George Orwell', 'id': '08byAAAAMAAJ', 'authors': ['George Orwell']}\n",
      "\u001b[32m2025-04-18T12:37:03.517001+0200\u001b[0m | \u001b[33m\u001b[1mWARNING \u001b[0m | \u001b[36m__main__\u001b[0m:\u001b[36mtry_parse_volume_info\u001b[0m:\u001b[36m14\u001b[0m - \u001b[33m\u001b[1mno identifiers\u001b[0m | {'query_author': 'George Orwell', 'id': 'kVHmEAAAQBAJ', 'authors': ['George Orwell']}\n",
      "\u001b[32m2025-04-18T12:37:03.517352+0200\u001b[0m | \u001b[33m\u001b[1mWARNING \u001b[0m | \u001b[36m__main__\u001b[0m:\u001b[36mtry_parse_volume_info\u001b[0m:\u001b[36m14\u001b[0m - \u001b[33m\u001b[1mno identifiers\u001b[0m | {'query_author': 'George Orwell', 'id': 'aEwqAQAAIAAJ', 'authors': ['George Orwell']}\n",
      "\u001b[32m2025-04-18T12:37:03.517663+0200\u001b[0m | \u001b[33m\u001b[1mWARNING \u001b[0m | \u001b[36m__main__\u001b[0m:\u001b[36mtry_parse_volume_info\u001b[0m:\u001b[36m14\u001b[0m - \u001b[33m\u001b[1mno identifiers\u001b[0m | {'query_author': 'George Orwell', 'id': '-hJiEAAAQBAJ', 'authors': ['George Orwell']}\n",
      "\u001b[32m2025-04-18T12:37:03.936731+0200\u001b[0m | \u001b[33m\u001b[1mWARNING \u001b[0m | \u001b[36m__main__\u001b[0m:\u001b[36mtry_parse_volume_info\u001b[0m:\u001b[36m14\u001b[0m - \u001b[33m\u001b[1mno identifiers\u001b[0m | {'query_author': 'Aldous Huxley', 'id': 'zcIZAAAAMAAJ', 'authors': ['Aldous Huxley']}\n",
      "\u001b[32m2025-04-18T12:37:03.938110+0200\u001b[0m | \u001b[33m\u001b[1mWARNING \u001b[0m | \u001b[36m__main__\u001b[0m:\u001b[36mtry_parse_volume_info\u001b[0m:\u001b[36m14\u001b[0m - \u001b[33m\u001b[1mno identifiers\u001b[0m | {'query_author': 'Aldous Huxley', 'id': 'qLhlAAAAMAAJ', 'authors': ['Aldous Huxley']}\n",
      "\u001b[32m2025-04-18T12:37:03.938942+0200\u001b[0m | \u001b[33m\u001b[1mWARNING \u001b[0m | \u001b[36m__main__\u001b[0m:\u001b[36mtry_parse_volume_info\u001b[0m:\u001b[36m14\u001b[0m - \u001b[33m\u001b[1mno identifiers\u001b[0m | {'query_author': 'Aldous Huxley', 'id': 'htlMDQEACAAJ', 'authors': ['Aldous Huxley']}\n",
      "\u001b[32m2025-04-18T12:37:03.939588+0200\u001b[0m | \u001b[33m\u001b[1mWARNING \u001b[0m | \u001b[36m__main__\u001b[0m:\u001b[36mtry_parse_volume_info\u001b[0m:\u001b[36m14\u001b[0m - \u001b[33m\u001b[1mno identifiers\u001b[0m | {'query_author': 'Aldous Huxley', 'id': 'xuNaAAAAMAAJ', 'authors': ['Aldous Huxley']}\n",
      "\u001b[32m2025-04-18T12:37:03.940354+0200\u001b[0m | \u001b[33m\u001b[1mWARNING \u001b[0m | \u001b[36m__main__\u001b[0m:\u001b[36mtry_parse_volume_info\u001b[0m:\u001b[36m14\u001b[0m - \u001b[33m\u001b[1mno identifiers\u001b[0m | {'query_author': 'Aldous Huxley', 'id': 'OH-pnAEACAAJ', 'authors': ['Julian Huxley']}\n",
      "\u001b[32m2025-04-18T12:37:03.941234+0200\u001b[0m | \u001b[33m\u001b[1mWARNING \u001b[0m | \u001b[36m__main__\u001b[0m:\u001b[36mtry_parse_volume_info\u001b[0m:\u001b[36m14\u001b[0m - \u001b[33m\u001b[1mno identifiers\u001b[0m | {'query_author': 'Aldous Huxley', 'id': '_nt_EAAAQBAJ', 'authors': ['Aldous Leonard Huxley']}\n",
      "\u001b[32m2025-04-18T12:37:03.941695+0200\u001b[0m | \u001b[33m\u001b[1mWARNING \u001b[0m | \u001b[36m__main__\u001b[0m:\u001b[36mtry_parse_volume_info\u001b[0m:\u001b[36m14\u001b[0m - \u001b[33m\u001b[1mno identifiers\u001b[0m | {'query_author': 'Aldous Huxley', 'id': 'JSZFAAAAYAAJ', 'authors': ['Aldous Huxley']}\n",
      "\u001b[32m2025-04-18T12:37:03.942339+0200\u001b[0m | \u001b[33m\u001b[1mWARNING \u001b[0m | \u001b[36m__main__\u001b[0m:\u001b[36mtry_parse_volume_info\u001b[0m:\u001b[36m14\u001b[0m - \u001b[33m\u001b[1mno identifiers\u001b[0m | {'query_author': 'Aldous Huxley', 'id': 'd915EAAAQBAJ', 'authors': ['Aldous Huxley']}\n",
      "\u001b[32m2025-04-18T12:37:03.982252+0200\u001b[0m | \u001b[33m\u001b[1mWARNING \u001b[0m | \u001b[36m__main__\u001b[0m:\u001b[36mtry_parse_volume_info\u001b[0m:\u001b[36m14\u001b[0m - \u001b[33m\u001b[1mno identifiers\u001b[0m | {'query_author': 'Hermann Hesse', 'id': '4YMZnQAACAAJ', 'authors': None}\n",
      "\u001b[32m2025-04-18T12:37:03.983541+0200\u001b[0m | \u001b[33m\u001b[1mWARNING \u001b[0m | \u001b[36m__main__\u001b[0m:\u001b[36mtry_parse_volume_info\u001b[0m:\u001b[36m14\u001b[0m - \u001b[33m\u001b[1mno identifiers\u001b[0m | {'query_author': 'Hermann Hesse', 'id': 'hoyMAQAACAAJ', 'authors': ['Hermann Hesse']}\n",
      "\u001b[32m2025-04-18T12:37:03.984223+0200\u001b[0m | \u001b[33m\u001b[1mWARNING \u001b[0m | \u001b[36m__main__\u001b[0m:\u001b[36mtry_parse_volume_info\u001b[0m:\u001b[36m14\u001b[0m - \u001b[33m\u001b[1mno identifiers\u001b[0m | {'query_author': 'Hermann Hesse', 'id': 'Nw3FngEACAAJ', 'authors': ['Hermann Hesse']}\n",
      "\u001b[32m2025-04-18T12:37:03.984704+0200\u001b[0m | \u001b[33m\u001b[1mWARNING \u001b[0m | \u001b[36m__main__\u001b[0m:\u001b[36mtry_parse_volume_info\u001b[0m:\u001b[36m14\u001b[0m - \u001b[33m\u001b[1mno identifiers\u001b[0m | {'query_author': 'Hermann Hesse', 'id': 'Caf7jwEACAAJ', 'authors': None}\n"
     ]
    }
   ],
   "source": [
    "books = [\n",
    "    book\n",
    "    for batch in await batch_calls(\n",
    "        aclient,\n",
    "        tasks=map(create_get_books_task, AUTHORS),\n",
    "        batch_size=2,\n",
    "    )\n",
    "    for book in batch\n",
    "]"
   ]
  },
  {
   "cell_type": "code",
   "execution_count": 13,
   "id": "3ba3acb7",
   "metadata": {},
   "outputs": [
    {
     "data": {
      "text/html": [
       "<div><style>\n",
       ".dataframe > thead > tr,\n",
       ".dataframe > tbody > tr {\n",
       "  text-align: right;\n",
       "  white-space: pre-wrap;\n",
       "}\n",
       "</style>\n",
       "<small>shape: (17, 5)</small><table border=\"1\" class=\"dataframe\"><thead><tr><th>title</th><th>authors</th><th>publisher</th><th>publish_date</th><th>isbn</th></tr><tr><td>str</td><td>str</td><td>str</td><td>str</td><td>str</td></tr></thead><tbody><tr><td>&quot;The Seasons of the Soul&quot;</td><td>&quot;Hermann Hesse&quot;</td><td>&quot;North Atlantic Books&quot;</td><td>&quot;2011-10-11&quot;</td><td>&quot;9781583943410&quot;</td></tr><tr><td>&quot;The Fairy Tales of Hermann Hes…</td><td>&quot;Hermann Hesse&quot;</td><td>&quot;Bantam&quot;</td><td>&quot;2009-09-30&quot;</td><td>&quot;9780307420510&quot;</td></tr><tr><td>&quot;Hermann Hesse&quot;</td><td>&quot;Hermann Hesse&quot;</td><td>&quot;Farrar, Straus and Giroux&quot;</td><td>&quot;2013-01-22&quot;</td><td>&quot;9781466835085&quot;</td></tr><tr><td>&quot;The Complete Works of William …</td><td>&quot;William Shakespeare&quot;</td><td>&quot;Simon and Schuster&quot;</td><td>&quot;2014-10-01&quot;</td><td>&quot;9781626862760&quot;</td></tr><tr><td>&quot;HAMLET&quot;</td><td>&quot;William Shakespeare&quot;</td><td>&quot;e-artnow&quot;</td><td>&quot;2017-12-06&quot;</td><td>&quot;9788027237142&quot;</td></tr><tr><td>&hellip;</td><td>&hellip;</td><td>&hellip;</td><td>&hellip;</td><td>&hellip;</td></tr><tr><td>&quot;Oluja&quot;</td><td>&quot;William Shakespeare&quot;</td><td>&quot;Bulaja naklada&quot;</td><td>&quot;2011-05-30&quot;</td><td>&quot;9789533280714&quot;</td></tr><tr><td>&quot;Othello&quot;</td><td>&quot;William Shakespeare&quot;</td><td>&quot;e-artnow&quot;</td><td>&quot;2017-10-16&quot;</td><td>&quot;9788027223824&quot;</td></tr><tr><td>&quot;The George Orwell Collection&quot;</td><td>&quot;George Orwell&quot;</td><td>&quot;Birlinn Ltd&quot;</td><td>&quot;2023-04-01&quot;</td><td>&quot;9781788856348&quot;</td></tr><tr><td>&quot;The Poems &amp; Sonnets of William…</td><td>&quot;William Shakespeare&quot;</td><td>&quot;Wordsworth Editions&quot;</td><td>&quot;1994&quot;</td><td>&quot;9781853264160&quot;</td></tr><tr><td>&quot;Now More Than Ever&quot;</td><td>&quot;David Bradshaw, James Sexton, …</td><td>&quot;University of Texas Press&quot;</td><td>&quot;2000-01-01&quot;</td><td>&quot;9780292731226&quot;</td></tr></tbody></table></div>"
      ],
      "text/plain": [
       "shape: (17, 5)\n",
       "┌──────────────────────┬──────────────────────┬─────────────────────┬──────────────┬───────────────┐\n",
       "│ title                ┆ authors              ┆ publisher           ┆ publish_date ┆ isbn          │\n",
       "│ ---                  ┆ ---                  ┆ ---                 ┆ ---          ┆ ---           │\n",
       "│ str                  ┆ str                  ┆ str                 ┆ str          ┆ str           │\n",
       "╞══════════════════════╪══════════════════════╪═════════════════════╪══════════════╪═══════════════╡\n",
       "│ The Seasons of the   ┆ Hermann Hesse        ┆ North Atlantic      ┆ 2011-10-11   ┆ 9781583943410 │\n",
       "│ Soul                 ┆                      ┆ Books               ┆              ┆               │\n",
       "│ The Fairy Tales of   ┆ Hermann Hesse        ┆ Bantam              ┆ 2009-09-30   ┆ 9780307420510 │\n",
       "│ Hermann Hes…         ┆                      ┆                     ┆              ┆               │\n",
       "│ Hermann Hesse        ┆ Hermann Hesse        ┆ Farrar, Straus and  ┆ 2013-01-22   ┆ 9781466835085 │\n",
       "│                      ┆                      ┆ Giroux              ┆              ┆               │\n",
       "│ The Complete Works   ┆ William Shakespeare  ┆ Simon and Schuster  ┆ 2014-10-01   ┆ 9781626862760 │\n",
       "│ of William …         ┆                      ┆                     ┆              ┆               │\n",
       "│ HAMLET               ┆ William Shakespeare  ┆ e-artnow            ┆ 2017-12-06   ┆ 9788027237142 │\n",
       "│ …                    ┆ …                    ┆ …                   ┆ …            ┆ …             │\n",
       "│ Oluja                ┆ William Shakespeare  ┆ Bulaja naklada      ┆ 2011-05-30   ┆ 9789533280714 │\n",
       "│ Othello              ┆ William Shakespeare  ┆ e-artnow            ┆ 2017-10-16   ┆ 9788027223824 │\n",
       "│ The George Orwell    ┆ George Orwell        ┆ Birlinn Ltd         ┆ 2023-04-01   ┆ 9781788856348 │\n",
       "│ Collection           ┆                      ┆                     ┆              ┆               │\n",
       "│ The Poems & Sonnets  ┆ William Shakespeare  ┆ Wordsworth Editions ┆ 1994         ┆ 9781853264160 │\n",
       "│ of William…          ┆                      ┆                     ┆              ┆               │\n",
       "│ Now More Than Ever   ┆ David Bradshaw,      ┆ University of Texas ┆ 2000-01-01   ┆ 9780292731226 │\n",
       "│                      ┆ James Sexton, …      ┆ Press               ┆              ┆               │\n",
       "└──────────────────────┴──────────────────────┴─────────────────────┴──────────────┴───────────────┘"
      ]
     },
     "execution_count": 13,
     "metadata": {},
     "output_type": "execute_result"
    }
   ],
   "source": [
    "df = pl.from_dicts(\n",
    "    (lambda m: {**m, \"authors\": \", \".join(m[\"authors\"])})(book.model_dump())\n",
    "    for book in books\n",
    ")\n",
    "\n",
    "df.unique()"
   ]
  }
 ],
 "metadata": {
  "kernelspec": {
   "display_name": ".venv",
   "language": "python",
   "name": "python3"
  },
  "language_info": {
   "codemirror_mode": {
    "name": "ipython",
    "version": 3
   },
   "file_extension": ".py",
   "mimetype": "text/x-python",
   "name": "python",
   "nbconvert_exporter": "python",
   "pygments_lexer": "ipython3",
   "version": "3.12.4"
  }
 },
 "nbformat": 4,
 "nbformat_minor": 5
}
