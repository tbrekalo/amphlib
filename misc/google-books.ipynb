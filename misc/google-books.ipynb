{
 "cells": [
  {
   "cell_type": "code",
   "execution_count": 1,
   "id": "84fc0855",
   "metadata": {},
   "outputs": [
    {
     "data": {
      "text/plain": [
       "'/Users/tbrekalo/src/amphinicy/misc'"
      ]
     },
     "execution_count": 1,
     "metadata": {},
     "output_type": "execute_result"
    }
   ],
   "source": [
    "%pwd"
   ]
  },
  {
   "cell_type": "code",
   "execution_count": 15,
   "id": "88f589c2",
   "metadata": {},
   "outputs": [],
   "source": [
    "import asyncio\n",
    "import itertools as it\n",
    "\n",
    "from collections.abc import Callable, Iterable, Iterator, Sequence, Set\n",
    "from typing import TypeVar, Union\n",
    "\n",
    "from pydantic import BaseModel, ValidationError\n",
    "from pydantic_extra_types.isbn import ISBN\n",
    "\n",
    "import httpx\n",
    "import polars as pl"
   ]
  },
  {
   "cell_type": "code",
   "execution_count": 3,
   "id": "f6d32f6d",
   "metadata": {},
   "outputs": [],
   "source": [
    "T = TypeVar(\"T\")"
   ]
  },
  {
   "cell_type": "code",
   "execution_count": 4,
   "id": "6af474d0",
   "metadata": {},
   "outputs": [],
   "source": [
    "JSON = Union[None, int, str, bool, list[\"JSON\"], dict[str, \"JSON\"]]"
   ]
  },
  {
   "cell_type": "code",
   "execution_count": 5,
   "id": "c6ca2be2",
   "metadata": {},
   "outputs": [],
   "source": [
    "class Book(BaseModel):\n",
    "    model_config = {\n",
    "        \"frozen\": True,\n",
    "        \"extra\": \"ignore\",\n",
    "    }\n",
    "\n",
    "    title: str\n",
    "    authors: Set[str]\n",
    "    publisher: str\n",
    "    publish_date: str\n",
    "    isbn: ISBN\n",
    "\n",
    "\n",
    "class BookError:\n",
    "    message: str"
   ]
  },
  {
   "cell_type": "code",
   "execution_count": 6,
   "id": "a20daf06",
   "metadata": {},
   "outputs": [],
   "source": [
    "BOOKS_API = \"https://www.googleapis.com/books/v1/volumes\"\n",
    "AUTHORS = [\"William Shakespare\", \"George Orwell\", \"Aldous Huxley\", \"Hermann Hesse\"]\n",
    "\n",
    "aclient = httpx.AsyncClient()"
   ]
  },
  {
   "cell_type": "code",
   "execution_count": 7,
   "id": "beb9abb4",
   "metadata": {},
   "outputs": [],
   "source": [
    "def try_parse_book(book: JSON) -> Book | None:\n",
    "    try:\n",
    "        ids = {\n",
    "            id[\"type\"]: id[\"identifier\"]\n",
    "            for id in book.get(\"industryIdentifiers\", [])\n",
    "            if id.get(\"type\", None) in {\"ISBN_10\", \"ISBN_13\"} and \"identifier\" in id\n",
    "        }\n",
    "\n",
    "        isbn = ids.get(\"ISBN_13\", ids.get(\"ISBN_10\", None))\n",
    "        if isbn is None:\n",
    "            return None\n",
    "\n",
    "        return Book(\n",
    "            title=book.get(\"title\"),\n",
    "            authors=set(book.get(\"authors\")),\n",
    "            publisher=book.get(\"publisher\"),\n",
    "            publish_date=book.get(\"publishedDate\"),\n",
    "            isbn=isbn,\n",
    "        )\n",
    "    except ValidationError:\n",
    "        return None"
   ]
  },
  {
   "cell_type": "code",
   "execution_count": 8,
   "id": "bcf81b95",
   "metadata": {},
   "outputs": [],
   "source": [
    "def slice(src: Iterator[T], length: int | None = None) -> Iterable[Sequence[T]]:\n",
    "    if length is None:\n",
    "        return (tuple(jt) for jt in (src,))\n",
    "\n",
    "    jt = iter(src)\n",
    "    return iter(lambda: tuple(it.islice(jt, length)), ())"
   ]
  },
  {
   "cell_type": "code",
   "execution_count": 9,
   "id": "b9740166",
   "metadata": {},
   "outputs": [],
   "source": [
    "async def batch_calls(\n",
    "    client: httpx.AsyncClient,\n",
    "    *,\n",
    "    tasks: Sequence[Callable[[httpx.AsyncClient], Sequence[T]]],\n",
    "    batch_size: int | None = None,\n",
    ") -> Sequence[T]:\n",
    "    if not tasks:\n",
    "        return []\n",
    "\n",
    "    if batch_size is None:\n",
    "        batch_size = len(tasks)\n",
    "\n",
    "    ret = []\n",
    "    for batch in slice(tasks, batch_size):\n",
    "        ret.extend(await asyncio.gather(*(task(client) for task in batch)))\n",
    "\n",
    "    return ret"
   ]
  },
  {
   "cell_type": "code",
   "execution_count": 10,
   "id": "36948f64",
   "metadata": {},
   "outputs": [],
   "source": [
    "async def get_by_author(\n",
    "    client: httpx.AsyncClient,\n",
    "    author: str,\n",
    ") -> Sequence[Book] | BookError:\n",
    "    response = await client.get(BOOKS_API, params={\"q\": f\"inauthor:{author}\"})\n",
    "    if response.is_error:\n",
    "        return BookError(response.text)\n",
    "    return [\n",
    "        book\n",
    "        for book in (\n",
    "            try_parse_book(volume[\"volumeInfo\"])\n",
    "            for volume in response.json().get(\"items\", [])\n",
    "            if \"volumeInfo\" in volume\n",
    "        )\n",
    "        if book is not None\n",
    "    ]"
   ]
  },
  {
   "cell_type": "code",
   "execution_count": null,
   "id": "f4bbcdfb",
   "metadata": {},
   "outputs": [],
   "source": [
    "tasks = [\n",
    "    lambda client: get_by_author(client=client, author=author) for author in AUTHORS\n",
    "]\n",
    "\n",
    "books = [\n",
    "    book\n",
    "    for books in await batch_calls(\n",
    "        aclient,\n",
    "        tasks=tasks,\n",
    "        batch_size=2,\n",
    "    )\n",
    "    for book in books\n",
    "]"
   ]
  },
  {
   "cell_type": "code",
   "execution_count": 24,
   "id": "3ba3acb7",
   "metadata": {},
   "outputs": [
    {
     "data": {
      "text/html": [
       "<div><style>\n",
       ".dataframe > thead > tr,\n",
       ".dataframe > tbody > tr {\n",
       "  text-align: right;\n",
       "  white-space: pre-wrap;\n",
       "}\n",
       "</style>\n",
       "<small>shape: (5, 5)</small><table border=\"1\" class=\"dataframe\"><thead><tr><th>title</th><th>authors</th><th>publisher</th><th>publish_date</th><th>isbn</th></tr><tr><td>str</td><td>str</td><td>str</td><td>str</td><td>str</td></tr></thead><tbody><tr><td>&quot;Hermann Hesse&quot;</td><td>&quot;Hermann Hesse&quot;</td><td>&quot;Farrar, Straus and Giroux&quot;</td><td>&quot;2013-01-22&quot;</td><td>&quot;9781466835085&quot;</td></tr><tr><td>&quot;The Prodigy&quot;</td><td>&quot;Hermann Hesse&quot;</td><td>&quot;Peter Owen Publishers&quot;</td><td>&quot;2002&quot;</td><td>&quot;9780720611748&quot;</td></tr><tr><td>&quot;The Seasons of the Soul&quot;</td><td>&quot;Hermann Hesse&quot;</td><td>&quot;North Atlantic Books&quot;</td><td>&quot;2011-10-11&quot;</td><td>&quot;9781583943410&quot;</td></tr><tr><td>&quot;The Fairy Tales of Hermann Hes…</td><td>&quot;Hermann Hesse&quot;</td><td>&quot;Bantam&quot;</td><td>&quot;2009-09-30&quot;</td><td>&quot;9780307420510&quot;</td></tr><tr><td>&quot;Soul of the Age&quot;</td><td>&quot;Hermann Hesse&quot;</td><td>&quot;Farrar, Straus and Giroux&quot;</td><td>&quot;2013-01-22&quot;</td><td>&quot;9781466835191&quot;</td></tr></tbody></table></div>"
      ],
      "text/plain": [
       "shape: (5, 5)\n",
       "┌─────────────────────────┬───────────────┬─────────────────────────┬──────────────┬───────────────┐\n",
       "│ title                   ┆ authors       ┆ publisher               ┆ publish_date ┆ isbn          │\n",
       "│ ---                     ┆ ---           ┆ ---                     ┆ ---          ┆ ---           │\n",
       "│ str                     ┆ str           ┆ str                     ┆ str          ┆ str           │\n",
       "╞═════════════════════════╪═══════════════╪═════════════════════════╪══════════════╪═══════════════╡\n",
       "│ Hermann Hesse           ┆ Hermann Hesse ┆ Farrar, Straus and      ┆ 2013-01-22   ┆ 9781466835085 │\n",
       "│                         ┆               ┆ Giroux                  ┆              ┆               │\n",
       "│ The Prodigy             ┆ Hermann Hesse ┆ Peter Owen Publishers   ┆ 2002         ┆ 9780720611748 │\n",
       "│ The Seasons of the Soul ┆ Hermann Hesse ┆ North Atlantic Books    ┆ 2011-10-11   ┆ 9781583943410 │\n",
       "│ The Fairy Tales of      ┆ Hermann Hesse ┆ Bantam                  ┆ 2009-09-30   ┆ 9780307420510 │\n",
       "│ Hermann Hes…            ┆               ┆                         ┆              ┆               │\n",
       "│ Soul of the Age         ┆ Hermann Hesse ┆ Farrar, Straus and      ┆ 2013-01-22   ┆ 9781466835191 │\n",
       "│                         ┆               ┆ Giroux                  ┆              ┆               │\n",
       "└─────────────────────────┴───────────────┴─────────────────────────┴──────────────┴───────────────┘"
      ]
     },
     "execution_count": 24,
     "metadata": {},
     "output_type": "execute_result"
    }
   ],
   "source": [
    "df = pl.from_dicts(\n",
    "    (lambda m: {**m, \"authors\": \", \".join(m[\"authors\"])})(book.model_dump())\n",
    "    for book in books\n",
    ")\n",
    "\n",
    "df.head()"
   ]
  }
 ],
 "metadata": {
  "kernelspec": {
   "display_name": ".venv",
   "language": "python",
   "name": "python3"
  },
  "language_info": {
   "codemirror_mode": {
    "name": "ipython",
    "version": 3
   },
   "file_extension": ".py",
   "mimetype": "text/x-python",
   "name": "python",
   "nbconvert_exporter": "python",
   "pygments_lexer": "ipython3",
   "version": "3.12.4"
  }
 },
 "nbformat": 4,
 "nbformat_minor": 5
}
